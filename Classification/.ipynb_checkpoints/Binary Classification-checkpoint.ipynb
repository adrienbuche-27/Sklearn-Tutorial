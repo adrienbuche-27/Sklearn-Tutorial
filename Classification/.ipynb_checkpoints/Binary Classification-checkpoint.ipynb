{
 "cells": [
  {
   "cell_type": "markdown",
   "metadata": {},
   "source": [
    "This Notebook explores Binary Classification Algorithms along side other sklearn perks like Pipeline, GridSearch, etc, ..."
   ]
  },
  {
   "cell_type": "code",
   "execution_count": 10,
   "metadata": {},
   "outputs": [],
   "source": [
    "import pandas as pd\n",
    "import numpy as np\n",
    "\n",
    "from sklearn.datasets import load_breast_cancer\n",
    "from sklearn.linear_model import LogisticRegression\n",
    "from sklearn.metrics import classification_report, confusion_matrix, balanced_accuracy_score, roc_auc_score, roc_curve\n",
    "# https://scikit-learn.org/stable/auto_examples/model_selection/plot_roc.html#sphx-glr-auto-examples-model-selection-plot-roc-py\n",
    "from sklearn.model_selection import train_test_split\n",
    "from sklearn.pipeline import Pipeline\n",
    "from sklearn.preprocessing import MinMaxScaler"
   ]
  },
  {
   "cell_type": "code",
   "execution_count": 11,
   "metadata": {},
   "outputs": [],
   "source": [
    "dataset = load_breast_cancer()\n",
    "X, y = dataset['data'], dataset['target']"
   ]
  },
  {
   "cell_type": "code",
   "execution_count": 124,
   "metadata": {},
   "outputs": [
    {
     "data": {
      "text/plain": [
       "array(['mean radius', 'mean texture', 'mean perimeter', 'mean area',\n",
       "       'mean smoothness', 'mean compactness', 'mean concavity',\n",
       "       'mean concave points', 'mean symmetry', 'mean fractal dimension',\n",
       "       'radius error', 'texture error', 'perimeter error', 'area error',\n",
       "       'smoothness error', 'compactness error', 'concavity error',\n",
       "       'concave points error', 'symmetry error',\n",
       "       'fractal dimension error', 'worst radius', 'worst texture',\n",
       "       'worst perimeter', 'worst area', 'worst smoothness',\n",
       "       'worst compactness', 'worst concavity', 'worst concave points',\n",
       "       'worst symmetry', 'worst fractal dimension'], dtype='<U23')"
      ]
     },
     "execution_count": 124,
     "metadata": {},
     "output_type": "execute_result"
    }
   ],
   "source": [
    "dataset['feature_names']"
   ]
  },
  {
   "cell_type": "code",
   "execution_count": 17,
   "metadata": {},
   "outputs": [
    {
     "data": {
      "text/html": [
       "<div>\n",
       "<style scoped>\n",
       "    .dataframe tbody tr th:only-of-type {\n",
       "        vertical-align: middle;\n",
       "    }\n",
       "\n",
       "    .dataframe tbody tr th {\n",
       "        vertical-align: top;\n",
       "    }\n",
       "\n",
       "    .dataframe thead th {\n",
       "        text-align: right;\n",
       "    }\n",
       "</style>\n",
       "<table border=\"1\" class=\"dataframe\">\n",
       "  <thead>\n",
       "    <tr style=\"text-align: right;\">\n",
       "      <th></th>\n",
       "      <th>0</th>\n",
       "      <th>1</th>\n",
       "      <th>2</th>\n",
       "      <th>3</th>\n",
       "      <th>4</th>\n",
       "      <th>5</th>\n",
       "      <th>6</th>\n",
       "      <th>7</th>\n",
       "      <th>8</th>\n",
       "      <th>9</th>\n",
       "      <th>...</th>\n",
       "      <th>20</th>\n",
       "      <th>21</th>\n",
       "      <th>22</th>\n",
       "      <th>23</th>\n",
       "      <th>24</th>\n",
       "      <th>25</th>\n",
       "      <th>26</th>\n",
       "      <th>27</th>\n",
       "      <th>28</th>\n",
       "      <th>29</th>\n",
       "    </tr>\n",
       "  </thead>\n",
       "  <tbody>\n",
       "    <tr>\n",
       "      <th>count</th>\n",
       "      <td>569.000000</td>\n",
       "      <td>569.000000</td>\n",
       "      <td>569.000000</td>\n",
       "      <td>569.000000</td>\n",
       "      <td>569.000000</td>\n",
       "      <td>569.000000</td>\n",
       "      <td>569.000000</td>\n",
       "      <td>569.000000</td>\n",
       "      <td>569.000000</td>\n",
       "      <td>569.000000</td>\n",
       "      <td>...</td>\n",
       "      <td>569.000000</td>\n",
       "      <td>569.000000</td>\n",
       "      <td>569.000000</td>\n",
       "      <td>569.000000</td>\n",
       "      <td>569.000000</td>\n",
       "      <td>569.000000</td>\n",
       "      <td>569.000000</td>\n",
       "      <td>569.000000</td>\n",
       "      <td>569.000000</td>\n",
       "      <td>569.000000</td>\n",
       "    </tr>\n",
       "    <tr>\n",
       "      <th>mean</th>\n",
       "      <td>14.127292</td>\n",
       "      <td>19.289649</td>\n",
       "      <td>91.969033</td>\n",
       "      <td>654.889104</td>\n",
       "      <td>0.096360</td>\n",
       "      <td>0.104341</td>\n",
       "      <td>0.088799</td>\n",
       "      <td>0.048919</td>\n",
       "      <td>0.181162</td>\n",
       "      <td>0.062798</td>\n",
       "      <td>...</td>\n",
       "      <td>16.269190</td>\n",
       "      <td>25.677223</td>\n",
       "      <td>107.261213</td>\n",
       "      <td>880.583128</td>\n",
       "      <td>0.132369</td>\n",
       "      <td>0.254265</td>\n",
       "      <td>0.272188</td>\n",
       "      <td>0.114606</td>\n",
       "      <td>0.290076</td>\n",
       "      <td>0.083946</td>\n",
       "    </tr>\n",
       "    <tr>\n",
       "      <th>std</th>\n",
       "      <td>3.524049</td>\n",
       "      <td>4.301036</td>\n",
       "      <td>24.298981</td>\n",
       "      <td>351.914129</td>\n",
       "      <td>0.014064</td>\n",
       "      <td>0.052813</td>\n",
       "      <td>0.079720</td>\n",
       "      <td>0.038803</td>\n",
       "      <td>0.027414</td>\n",
       "      <td>0.007060</td>\n",
       "      <td>...</td>\n",
       "      <td>4.833242</td>\n",
       "      <td>6.146258</td>\n",
       "      <td>33.602542</td>\n",
       "      <td>569.356993</td>\n",
       "      <td>0.022832</td>\n",
       "      <td>0.157336</td>\n",
       "      <td>0.208624</td>\n",
       "      <td>0.065732</td>\n",
       "      <td>0.061867</td>\n",
       "      <td>0.018061</td>\n",
       "    </tr>\n",
       "    <tr>\n",
       "      <th>min</th>\n",
       "      <td>6.981000</td>\n",
       "      <td>9.710000</td>\n",
       "      <td>43.790000</td>\n",
       "      <td>143.500000</td>\n",
       "      <td>0.052630</td>\n",
       "      <td>0.019380</td>\n",
       "      <td>0.000000</td>\n",
       "      <td>0.000000</td>\n",
       "      <td>0.106000</td>\n",
       "      <td>0.049960</td>\n",
       "      <td>...</td>\n",
       "      <td>7.930000</td>\n",
       "      <td>12.020000</td>\n",
       "      <td>50.410000</td>\n",
       "      <td>185.200000</td>\n",
       "      <td>0.071170</td>\n",
       "      <td>0.027290</td>\n",
       "      <td>0.000000</td>\n",
       "      <td>0.000000</td>\n",
       "      <td>0.156500</td>\n",
       "      <td>0.055040</td>\n",
       "    </tr>\n",
       "    <tr>\n",
       "      <th>25%</th>\n",
       "      <td>11.700000</td>\n",
       "      <td>16.170000</td>\n",
       "      <td>75.170000</td>\n",
       "      <td>420.300000</td>\n",
       "      <td>0.086370</td>\n",
       "      <td>0.064920</td>\n",
       "      <td>0.029560</td>\n",
       "      <td>0.020310</td>\n",
       "      <td>0.161900</td>\n",
       "      <td>0.057700</td>\n",
       "      <td>...</td>\n",
       "      <td>13.010000</td>\n",
       "      <td>21.080000</td>\n",
       "      <td>84.110000</td>\n",
       "      <td>515.300000</td>\n",
       "      <td>0.116600</td>\n",
       "      <td>0.147200</td>\n",
       "      <td>0.114500</td>\n",
       "      <td>0.064930</td>\n",
       "      <td>0.250400</td>\n",
       "      <td>0.071460</td>\n",
       "    </tr>\n",
       "    <tr>\n",
       "      <th>50%</th>\n",
       "      <td>13.370000</td>\n",
       "      <td>18.840000</td>\n",
       "      <td>86.240000</td>\n",
       "      <td>551.100000</td>\n",
       "      <td>0.095870</td>\n",
       "      <td>0.092630</td>\n",
       "      <td>0.061540</td>\n",
       "      <td>0.033500</td>\n",
       "      <td>0.179200</td>\n",
       "      <td>0.061540</td>\n",
       "      <td>...</td>\n",
       "      <td>14.970000</td>\n",
       "      <td>25.410000</td>\n",
       "      <td>97.660000</td>\n",
       "      <td>686.500000</td>\n",
       "      <td>0.131300</td>\n",
       "      <td>0.211900</td>\n",
       "      <td>0.226700</td>\n",
       "      <td>0.099930</td>\n",
       "      <td>0.282200</td>\n",
       "      <td>0.080040</td>\n",
       "    </tr>\n",
       "    <tr>\n",
       "      <th>75%</th>\n",
       "      <td>15.780000</td>\n",
       "      <td>21.800000</td>\n",
       "      <td>104.100000</td>\n",
       "      <td>782.700000</td>\n",
       "      <td>0.105300</td>\n",
       "      <td>0.130400</td>\n",
       "      <td>0.130700</td>\n",
       "      <td>0.074000</td>\n",
       "      <td>0.195700</td>\n",
       "      <td>0.066120</td>\n",
       "      <td>...</td>\n",
       "      <td>18.790000</td>\n",
       "      <td>29.720000</td>\n",
       "      <td>125.400000</td>\n",
       "      <td>1084.000000</td>\n",
       "      <td>0.146000</td>\n",
       "      <td>0.339100</td>\n",
       "      <td>0.382900</td>\n",
       "      <td>0.161400</td>\n",
       "      <td>0.317900</td>\n",
       "      <td>0.092080</td>\n",
       "    </tr>\n",
       "    <tr>\n",
       "      <th>max</th>\n",
       "      <td>28.110000</td>\n",
       "      <td>39.280000</td>\n",
       "      <td>188.500000</td>\n",
       "      <td>2501.000000</td>\n",
       "      <td>0.163400</td>\n",
       "      <td>0.345400</td>\n",
       "      <td>0.426800</td>\n",
       "      <td>0.201200</td>\n",
       "      <td>0.304000</td>\n",
       "      <td>0.097440</td>\n",
       "      <td>...</td>\n",
       "      <td>36.040000</td>\n",
       "      <td>49.540000</td>\n",
       "      <td>251.200000</td>\n",
       "      <td>4254.000000</td>\n",
       "      <td>0.222600</td>\n",
       "      <td>1.058000</td>\n",
       "      <td>1.252000</td>\n",
       "      <td>0.291000</td>\n",
       "      <td>0.663800</td>\n",
       "      <td>0.207500</td>\n",
       "    </tr>\n",
       "  </tbody>\n",
       "</table>\n",
       "<p>8 rows × 30 columns</p>\n",
       "</div>"
      ],
      "text/plain": [
       "               0           1           2            3           4   \\\n",
       "count  569.000000  569.000000  569.000000   569.000000  569.000000   \n",
       "mean    14.127292   19.289649   91.969033   654.889104    0.096360   \n",
       "std      3.524049    4.301036   24.298981   351.914129    0.014064   \n",
       "min      6.981000    9.710000   43.790000   143.500000    0.052630   \n",
       "25%     11.700000   16.170000   75.170000   420.300000    0.086370   \n",
       "50%     13.370000   18.840000   86.240000   551.100000    0.095870   \n",
       "75%     15.780000   21.800000  104.100000   782.700000    0.105300   \n",
       "max     28.110000   39.280000  188.500000  2501.000000    0.163400   \n",
       "\n",
       "               5           6           7           8           9   ...  \\\n",
       "count  569.000000  569.000000  569.000000  569.000000  569.000000  ...   \n",
       "mean     0.104341    0.088799    0.048919    0.181162    0.062798  ...   \n",
       "std      0.052813    0.079720    0.038803    0.027414    0.007060  ...   \n",
       "min      0.019380    0.000000    0.000000    0.106000    0.049960  ...   \n",
       "25%      0.064920    0.029560    0.020310    0.161900    0.057700  ...   \n",
       "50%      0.092630    0.061540    0.033500    0.179200    0.061540  ...   \n",
       "75%      0.130400    0.130700    0.074000    0.195700    0.066120  ...   \n",
       "max      0.345400    0.426800    0.201200    0.304000    0.097440  ...   \n",
       "\n",
       "               20          21          22           23          24  \\\n",
       "count  569.000000  569.000000  569.000000   569.000000  569.000000   \n",
       "mean    16.269190   25.677223  107.261213   880.583128    0.132369   \n",
       "std      4.833242    6.146258   33.602542   569.356993    0.022832   \n",
       "min      7.930000   12.020000   50.410000   185.200000    0.071170   \n",
       "25%     13.010000   21.080000   84.110000   515.300000    0.116600   \n",
       "50%     14.970000   25.410000   97.660000   686.500000    0.131300   \n",
       "75%     18.790000   29.720000  125.400000  1084.000000    0.146000   \n",
       "max     36.040000   49.540000  251.200000  4254.000000    0.222600   \n",
       "\n",
       "               25          26          27          28          29  \n",
       "count  569.000000  569.000000  569.000000  569.000000  569.000000  \n",
       "mean     0.254265    0.272188    0.114606    0.290076    0.083946  \n",
       "std      0.157336    0.208624    0.065732    0.061867    0.018061  \n",
       "min      0.027290    0.000000    0.000000    0.156500    0.055040  \n",
       "25%      0.147200    0.114500    0.064930    0.250400    0.071460  \n",
       "50%      0.211900    0.226700    0.099930    0.282200    0.080040  \n",
       "75%      0.339100    0.382900    0.161400    0.317900    0.092080  \n",
       "max      1.058000    1.252000    0.291000    0.663800    0.207500  \n",
       "\n",
       "[8 rows x 30 columns]"
      ]
     },
     "execution_count": 17,
     "metadata": {},
     "output_type": "execute_result"
    }
   ],
   "source": [
    "df = pd.DataFrame(X)\n",
    "df.describe()"
   ]
  },
  {
   "cell_type": "markdown",
   "metadata": {},
   "source": [
    "# Train - Test"
   ]
  },
  {
   "cell_type": "code",
   "execution_count": 69,
   "metadata": {},
   "outputs": [],
   "source": [
    "X_train, X_test, y_train, y_test = train_test_split(X, y, test_size=0.2, random_state=2)"
   ]
  },
  {
   "cell_type": "code",
   "execution_count": 81,
   "metadata": {},
   "outputs": [],
   "source": [
    "def conf_matrix(pip, train, test, y_train, y_test):\n",
    "    \n",
    "    yp_train = pip.predict(train)\n",
    "    yp_test = pip.predict(test)  \n",
    "    \n",
    "    res = confusion_matrix(y_train, yp_train)\n",
    "    res2 = confusion_matrix(y_test, yp_test)\n",
    "    \n",
    "    print(\"{:9} | {:9}\".format('Train', 'Test'))\n",
    "    print('--------------------')\n",
    "    print(\"{} | {}\".format(res[0,:], res2[0,:]))\n",
    "    print(\"{} | {}\".format(res[1,:], res2[1,:]))\n",
    "    "
   ]
  },
  {
   "cell_type": "markdown",
   "metadata": {},
   "source": [
    "# Logistic Regression"
   ]
  },
  {
   "cell_type": "code",
   "execution_count": 107,
   "metadata": {},
   "outputs": [],
   "source": [
    "scaler = MinMaxScaler()\n",
    "clf = LogisticRegression(solver='lbfgs', max_iter=1000, penalty='none')"
   ]
  },
  {
   "cell_type": "markdown",
   "metadata": {},
   "source": [
    "## w/o scaling"
   ]
  },
  {
   "cell_type": "code",
   "execution_count": 108,
   "metadata": {},
   "outputs": [
    {
     "name": "stderr",
     "output_type": "stream",
     "text": [
      "C:\\Anaconda3\\envs\\Safe\\lib\\site-packages\\sklearn\\linear_model\\logistic.py:947: ConvergenceWarning: lbfgs failed to converge. Increase the number of iterations.\n",
      "  \"of iterations.\", ConvergenceWarning)\n"
     ]
    }
   ],
   "source": [
    "pipeline = Pipeline([('clf', clf)])\n",
    "pipeline = pipeline.fit(X_train, y_train)"
   ]
  },
  {
   "cell_type": "code",
   "execution_count": 109,
   "metadata": {},
   "outputs": [
    {
     "name": "stdout",
     "output_type": "stream",
     "text": [
      "Train     | Test     \n",
      "--------------------\n",
      "[157  10] | [43  2]\n",
      "[  4 284] | [ 3 66]\n"
     ]
    }
   ],
   "source": [
    "conf_matrix(pipeline, X_train, X_test, y_train, y_test)"
   ]
  },
  {
   "cell_type": "markdown",
   "metadata": {},
   "source": [
    "## w/ scaling"
   ]
  },
  {
   "cell_type": "code",
   "execution_count": 110,
   "metadata": {},
   "outputs": [],
   "source": [
    "pipeline = Pipeline([('scaler', scaler), ('clf', clf)])\n",
    "pipeline = pipeline.fit(X_train, y_train)"
   ]
  },
  {
   "cell_type": "code",
   "execution_count": 111,
   "metadata": {},
   "outputs": [
    {
     "name": "stdout",
     "output_type": "stream",
     "text": [
      "Train     | Test     \n",
      "--------------------\n",
      "[167   0] | [43  2]\n",
      "[  0 288] | [ 9 60]\n"
     ]
    }
   ],
   "source": [
    "conf_matrix(pipeline, X_train, X_test, y_train, y_test)"
   ]
  },
  {
   "cell_type": "markdown",
   "metadata": {},
   "source": [
    "## w/ penalization & w/ scaling"
   ]
  },
  {
   "cell_type": "code",
   "execution_count": 112,
   "metadata": {},
   "outputs": [],
   "source": [
    "clf = LogisticRegression(solver='lbfgs', max_iter=1000, penalty='l2')"
   ]
  },
  {
   "cell_type": "code",
   "execution_count": 113,
   "metadata": {},
   "outputs": [],
   "source": [
    "pipeline = Pipeline([('scaler', scaler), ('clf', clf)], verbose=False)\n",
    "pipeline = pipeline.fit(X_train, y_train)"
   ]
  },
  {
   "cell_type": "code",
   "execution_count": 114,
   "metadata": {},
   "outputs": [
    {
     "name": "stdout",
     "output_type": "stream",
     "text": [
      "Train     | Test     \n",
      "--------------------\n",
      "[156  11] | [41  4]\n",
      "[  1 287] | [ 0 69]\n"
     ]
    }
   ],
   "source": [
    "conf_matrix(pipeline, X_train, X_test, y_train, y_test)"
   ]
  },
  {
   "cell_type": "code",
   "execution_count": 115,
   "metadata": {},
   "outputs": [
    {
     "data": {
      "text/plain": [
       "0.9649122807017544"
      ]
     },
     "execution_count": 115,
     "metadata": {},
     "output_type": "execute_result"
    }
   ],
   "source": [
    "pipeline.score(X_test, y_test)"
   ]
  },
  {
   "cell_type": "markdown",
   "metadata": {},
   "source": [
    "## W/ balanced weights"
   ]
  },
  {
   "cell_type": "code",
   "execution_count": 116,
   "metadata": {},
   "outputs": [],
   "source": [
    "clf = LogisticRegression(solver='lbfgs', max_iter=1000, penalty='l2', class_weight ='balanced')"
   ]
  },
  {
   "cell_type": "code",
   "execution_count": 117,
   "metadata": {},
   "outputs": [
    {
     "name": "stdout",
     "output_type": "stream",
     "text": [
      "Train     | Test     \n",
      "--------------------\n",
      "[162   5] | [42  3]\n",
      "[  4 284] | [ 2 67]\n"
     ]
    }
   ],
   "source": [
    "pipeline = Pipeline([('scaler', scaler), ('clf', clf)], verbose=False)\n",
    "pipeline = pipeline.fit(X_train, y_train)\n",
    "conf_matrix(pipeline, X_train, X_test, y_train, y_test)"
   ]
  },
  {
   "cell_type": "code",
   "execution_count": 118,
   "metadata": {},
   "outputs": [
    {
     "data": {
      "text/plain": [
       "0.956140350877193"
      ]
     },
     "execution_count": 118,
     "metadata": {},
     "output_type": "execute_result"
    }
   ],
   "source": [
    "pipeline.score(X_test, y_test)"
   ]
  },
  {
   "cell_type": "markdown",
   "metadata": {},
   "source": [
    "# Naive Bayes"
   ]
  },
  {
   "cell_type": "code",
   "execution_count": 119,
   "metadata": {},
   "outputs": [],
   "source": [
    "from sklearn.naive_bayes import GaussianNB"
   ]
  },
  {
   "cell_type": "code",
   "execution_count": 120,
   "metadata": {},
   "outputs": [],
   "source": [
    "clf = GaussianNB()"
   ]
  },
  {
   "cell_type": "code",
   "execution_count": 121,
   "metadata": {},
   "outputs": [
    {
     "name": "stdout",
     "output_type": "stream",
     "text": [
      "Train     | Test     \n",
      "--------------------\n",
      "[147  20] | [42  3]\n",
      "[  9 279] | [ 4 65]\n"
     ]
    }
   ],
   "source": [
    "pipeline = Pipeline([('clf', clf)], verbose=False)\n",
    "pipeline = pipeline.fit(X_train, y_train)\n",
    "conf_matrix(pipeline, X_train, X_test, y_train, y_test)"
   ]
  },
  {
   "cell_type": "code",
   "execution_count": 122,
   "metadata": {},
   "outputs": [
    {
     "name": "stdout",
     "output_type": "stream",
     "text": [
      "Train     | Test     \n",
      "--------------------\n",
      "[149  18] | [42  3]\n",
      "[ 14 274] | [ 4 65]\n"
     ]
    }
   ],
   "source": [
    "pipeline = Pipeline([('scaler', scaler), ('clf', clf)], verbose=False)\n",
    "pipeline = pipeline.fit(X_train, y_train)\n",
    "conf_matrix(pipeline, X_train, X_test, y_train, y_test)"
   ]
  },
  {
   "cell_type": "code",
   "execution_count": 123,
   "metadata": {},
   "outputs": [
    {
     "data": {
      "text/plain": [
       "0.9385964912280702"
      ]
     },
     "execution_count": 123,
     "metadata": {},
     "output_type": "execute_result"
    }
   ],
   "source": [
    "pipeline.score(X_test, y_test)"
   ]
  },
  {
   "cell_type": "markdown",
   "metadata": {},
   "source": [
    "# SVM"
   ]
  },
  {
   "cell_type": "code",
   "execution_count": 139,
   "metadata": {},
   "outputs": [],
   "source": [
    "from sklearn.svm import SVC"
   ]
  },
  {
   "cell_type": "code",
   "execution_count": 140,
   "metadata": {},
   "outputs": [],
   "source": [
    "clf = SVC(gamma='auto')"
   ]
  },
  {
   "cell_type": "code",
   "execution_count": 141,
   "metadata": {},
   "outputs": [
    {
     "name": "stdout",
     "output_type": "stream",
     "text": [
      "Train     | Test     \n",
      "--------------------\n",
      "[145  22] | [41  4]\n",
      "[  0 288] | [ 1 68]\n"
     ]
    },
    {
     "data": {
      "text/plain": [
       "0.956140350877193"
      ]
     },
     "execution_count": 141,
     "metadata": {},
     "output_type": "execute_result"
    }
   ],
   "source": [
    "pipeline = Pipeline([('scaler', scaler), ('clf', clf)], verbose=False)\n",
    "pipeline = pipeline.fit(X_train, y_train)\n",
    "conf_matrix(pipeline, X_train, X_test, y_train, y_test)\n",
    "pipeline.score(X_test, y_test)"
   ]
  },
  {
   "cell_type": "code",
   "execution_count": 142,
   "metadata": {},
   "outputs": [
    {
     "data": {
      "text/plain": [
       "{'C': 1.0,\n",
       " 'cache_size': 200,\n",
       " 'class_weight': None,\n",
       " 'coef0': 0.0,\n",
       " 'decision_function_shape': 'ovr',\n",
       " 'degree': 3,\n",
       " 'gamma': 'auto',\n",
       " 'kernel': 'rbf',\n",
       " 'max_iter': -1,\n",
       " 'probability': False,\n",
       " 'random_state': None,\n",
       " 'shrinking': True,\n",
       " 'tol': 0.001,\n",
       " 'verbose': False}"
      ]
     },
     "execution_count": 142,
     "metadata": {},
     "output_type": "execute_result"
    }
   ],
   "source": [
    "pipeline[1].get_params()"
   ]
  },
  {
   "cell_type": "markdown",
   "metadata": {},
   "source": [
    "## GridSearch"
   ]
  },
  {
   "cell_type": "code",
   "execution_count": 143,
   "metadata": {},
   "outputs": [],
   "source": [
    "from sklearn.model_selection import GridSearchCV"
   ]
  },
  {
   "cell_type": "code",
   "execution_count": 153,
   "metadata": {},
   "outputs": [],
   "source": [
    "param_grid = [{'kernel': ['linear', 'rbf', 'sigmoid'], 'C':[1, 10, 100]},\n",
    "              {'kernel': ['poly'], 'C':[1, 10, 100], 'degree': [1, 2, 3, 5, 10]}]"
   ]
  },
  {
   "cell_type": "code",
   "execution_count": 154,
   "metadata": {},
   "outputs": [],
   "source": [
    "svc = SVC(gamma=\"scale\")\n",
    "clf = GridSearchCV(svc, param_grid, cv=5, verbose = 0)"
   ]
  },
  {
   "cell_type": "code",
   "execution_count": 155,
   "metadata": {
    "collapsed": true
   },
   "outputs": [
    {
     "name": "stdout",
     "output_type": "stream",
     "text": [
      "Fitting 5 folds for each of 24 candidates, totalling 120 fits\n",
      "[CV] C=1, kernel=linear ..............................................\n"
     ]
    },
    {
     "name": "stderr",
     "output_type": "stream",
     "text": [
      "[Parallel(n_jobs=1)]: Using backend SequentialBackend with 1 concurrent workers.\n"
     ]
    },
    {
     "name": "stdout",
     "output_type": "stream",
     "text": [
      "[CV] ............................... C=1, kernel=linear, total=   0.9s\n",
      "[CV] C=1, kernel=linear ..............................................\n"
     ]
    },
    {
     "name": "stderr",
     "output_type": "stream",
     "text": [
      "[Parallel(n_jobs=1)]: Done   1 out of   1 | elapsed:    0.8s remaining:    0.0s\n"
     ]
    },
    {
     "name": "stdout",
     "output_type": "stream",
     "text": [
      "[CV] ............................... C=1, kernel=linear, total=   2.1s\n",
      "[CV] C=1, kernel=linear ..............................................\n",
      "[CV] ............................... C=1, kernel=linear, total=   1.1s\n",
      "[CV] C=1, kernel=linear ..............................................\n",
      "[CV] ............................... C=1, kernel=linear, total=   0.6s\n",
      "[CV] C=1, kernel=linear ..............................................\n",
      "[CV] ............................... C=1, kernel=linear, total=   1.1s\n",
      "[CV] C=1, kernel=rbf .................................................\n",
      "[CV] .................................. C=1, kernel=rbf, total=   0.0s\n",
      "[CV] C=1, kernel=rbf .................................................\n",
      "[CV] .................................. C=1, kernel=rbf, total=   0.0s\n",
      "[CV] C=1, kernel=rbf .................................................\n",
      "[CV] .................................. C=1, kernel=rbf, total=   0.0s\n",
      "[CV] C=1, kernel=rbf .................................................\n",
      "[CV] .................................. C=1, kernel=rbf, total=   0.0s\n",
      "[CV] C=1, kernel=rbf .................................................\n",
      "[CV] .................................. C=1, kernel=rbf, total=   0.0s\n",
      "[CV] C=1, kernel=sigmoid .............................................\n",
      "[CV] .............................. C=1, kernel=sigmoid, total=   0.0s\n",
      "[CV] C=1, kernel=sigmoid .............................................\n",
      "[CV] .............................. C=1, kernel=sigmoid, total=   0.0s\n",
      "[CV] C=1, kernel=sigmoid .............................................\n",
      "[CV] .............................. C=1, kernel=sigmoid, total=   0.0s\n",
      "[CV] C=1, kernel=sigmoid .............................................\n",
      "[CV] .............................. C=1, kernel=sigmoid, total=   0.0s\n",
      "[CV] C=1, kernel=sigmoid .............................................\n",
      "[CV] .............................. C=1, kernel=sigmoid, total=   0.0s\n",
      "[CV] C=10, kernel=linear .............................................\n",
      "[CV] .............................. C=10, kernel=linear, total=   3.5s\n",
      "[CV] C=10, kernel=linear .............................................\n",
      "[CV] .............................. C=10, kernel=linear, total=   3.4s\n",
      "[CV] C=10, kernel=linear .............................................\n",
      "[CV] .............................. C=10, kernel=linear, total=   5.0s\n",
      "[CV] C=10, kernel=linear .............................................\n",
      "[CV] .............................. C=10, kernel=linear, total=   4.0s\n",
      "[CV] C=10, kernel=linear .............................................\n",
      "[CV] .............................. C=10, kernel=linear, total=   2.5s\n",
      "[CV] C=10, kernel=rbf ................................................\n",
      "[CV] ................................. C=10, kernel=rbf, total=   0.0s\n",
      "[CV] C=10, kernel=rbf ................................................\n",
      "[CV] ................................. C=10, kernel=rbf, total=   0.0s\n",
      "[CV] C=10, kernel=rbf ................................................\n",
      "[CV] ................................. C=10, kernel=rbf, total=   0.0s\n",
      "[CV] C=10, kernel=rbf ................................................\n",
      "[CV] ................................. C=10, kernel=rbf, total=   0.0s\n",
      "[CV] C=10, kernel=rbf ................................................\n",
      "[CV] ................................. C=10, kernel=rbf, total=   0.0s\n",
      "[CV] C=10, kernel=sigmoid ............................................\n",
      "[CV] ............................. C=10, kernel=sigmoid, total=   0.0s\n",
      "[CV] C=10, kernel=sigmoid ............................................\n",
      "[CV] ............................. C=10, kernel=sigmoid, total=   0.0s\n",
      "[CV] C=10, kernel=sigmoid ............................................\n",
      "[CV] ............................. C=10, kernel=sigmoid, total=   0.0s\n",
      "[CV] C=10, kernel=sigmoid ............................................\n",
      "[CV] ............................. C=10, kernel=sigmoid, total=   0.0s\n",
      "[CV] C=10, kernel=sigmoid ............................................\n",
      "[CV] ............................. C=10, kernel=sigmoid, total=   0.0s\n",
      "[CV] C=100, kernel=linear ............................................\n",
      "[CV] ............................. C=100, kernel=linear, total=   6.1s\n",
      "[CV] C=100, kernel=linear ............................................\n",
      "[CV] ............................. C=100, kernel=linear, total=   6.5s\n",
      "[CV] C=100, kernel=linear ............................................\n",
      "[CV] ............................. C=100, kernel=linear, total=   4.9s\n",
      "[CV] C=100, kernel=linear ............................................\n",
      "[CV] ............................. C=100, kernel=linear, total=  12.0s\n",
      "[CV] C=100, kernel=linear ............................................\n",
      "[CV] ............................. C=100, kernel=linear, total=   6.4s\n",
      "[CV] C=100, kernel=rbf ...............................................\n",
      "[CV] ................................ C=100, kernel=rbf, total=   0.0s\n",
      "[CV] C=100, kernel=rbf ...............................................\n",
      "[CV] ................................ C=100, kernel=rbf, total=   0.0s\n",
      "[CV] C=100, kernel=rbf ...............................................\n",
      "[CV] ................................ C=100, kernel=rbf, total=   0.0s\n",
      "[CV] C=100, kernel=rbf ...............................................\n",
      "[CV] ................................ C=100, kernel=rbf, total=   0.0s\n",
      "[CV] C=100, kernel=rbf ...............................................\n",
      "[CV] ................................ C=100, kernel=rbf, total=   0.0s\n",
      "[CV] C=100, kernel=sigmoid ...........................................\n",
      "[CV] ............................ C=100, kernel=sigmoid, total=   0.0s\n",
      "[CV] C=100, kernel=sigmoid ...........................................\n",
      "[CV] ............................ C=100, kernel=sigmoid, total=   0.0s\n",
      "[CV] C=100, kernel=sigmoid ...........................................\n",
      "[CV] ............................ C=100, kernel=sigmoid, total=   0.0s\n",
      "[CV] C=100, kernel=sigmoid ...........................................\n",
      "[CV] ............................ C=100, kernel=sigmoid, total=   0.0s\n",
      "[CV] C=100, kernel=sigmoid ...........................................\n",
      "[CV] ............................ C=100, kernel=sigmoid, total=   0.0s\n",
      "[CV] C=1, degree=1, kernel=poly ......................................\n",
      "[CV] ....................... C=1, degree=1, kernel=poly, total=   0.0s\n",
      "[CV] C=1, degree=1, kernel=poly ......................................\n",
      "[CV] ....................... C=1, degree=1, kernel=poly, total=   0.0s\n",
      "[CV] C=1, degree=1, kernel=poly ......................................\n",
      "[CV] ....................... C=1, degree=1, kernel=poly, total=   0.0s\n",
      "[CV] C=1, degree=1, kernel=poly ......................................\n",
      "[CV] ....................... C=1, degree=1, kernel=poly, total=   0.0s\n",
      "[CV] C=1, degree=1, kernel=poly ......................................\n",
      "[CV] ....................... C=1, degree=1, kernel=poly, total=   0.0s\n",
      "[CV] C=1, degree=2, kernel=poly ......................................\n",
      "[CV] ....................... C=1, degree=2, kernel=poly, total=   0.0s\n",
      "[CV] C=1, degree=2, kernel=poly ......................................\n",
      "[CV] ....................... C=1, degree=2, kernel=poly, total=   0.0s\n",
      "[CV] C=1, degree=2, kernel=poly ......................................\n",
      "[CV] ....................... C=1, degree=2, kernel=poly, total=   0.0s\n",
      "[CV] C=1, degree=2, kernel=poly ......................................\n",
      "[CV] ....................... C=1, degree=2, kernel=poly, total=   0.0s\n",
      "[CV] C=1, degree=2, kernel=poly ......................................\n",
      "[CV] ....................... C=1, degree=2, kernel=poly, total=   0.0s\n",
      "[CV] C=1, degree=3, kernel=poly ......................................\n",
      "[CV] ....................... C=1, degree=3, kernel=poly, total=   0.0s\n",
      "[CV] C=1, degree=3, kernel=poly ......................................\n",
      "[CV] ....................... C=1, degree=3, kernel=poly, total=   0.0s\n",
      "[CV] C=1, degree=3, kernel=poly ......................................\n",
      "[CV] ....................... C=1, degree=3, kernel=poly, total=   0.0s\n",
      "[CV] C=1, degree=3, kernel=poly ......................................\n",
      "[CV] ....................... C=1, degree=3, kernel=poly, total=   0.0s\n",
      "[CV] C=1, degree=3, kernel=poly ......................................\n",
      "[CV] ....................... C=1, degree=3, kernel=poly, total=   0.0s\n",
      "[CV] C=1, degree=5, kernel=poly ......................................\n",
      "[CV] ....................... C=1, degree=5, kernel=poly, total=   0.0s\n",
      "[CV] C=1, degree=5, kernel=poly ......................................\n",
      "[CV] ....................... C=1, degree=5, kernel=poly, total=   0.0s\n",
      "[CV] C=1, degree=5, kernel=poly ......................................\n",
      "[CV] ....................... C=1, degree=5, kernel=poly, total=   0.0s\n",
      "[CV] C=1, degree=5, kernel=poly ......................................\n",
      "[CV] ....................... C=1, degree=5, kernel=poly, total=   0.0s\n",
      "[CV] C=1, degree=5, kernel=poly ......................................\n",
      "[CV] ....................... C=1, degree=5, kernel=poly, total=   0.0s\n",
      "[CV] C=1, degree=10, kernel=poly .....................................\n",
      "[CV] ...................... C=1, degree=10, kernel=poly, total=   0.0s\n",
      "[CV] C=1, degree=10, kernel=poly .....................................\n",
      "[CV] ...................... C=1, degree=10, kernel=poly, total=   0.0s\n",
      "[CV] C=1, degree=10, kernel=poly .....................................\n",
      "[CV] ...................... C=1, degree=10, kernel=poly, total=   0.0s\n",
      "[CV] C=1, degree=10, kernel=poly .....................................\n",
      "[CV] ...................... C=1, degree=10, kernel=poly, total=   0.0s\n",
      "[CV] C=1, degree=10, kernel=poly .....................................\n"
     ]
    },
    {
     "name": "stdout",
     "output_type": "stream",
     "text": [
      "[CV] ...................... C=1, degree=10, kernel=poly, total=   0.0s\n",
      "[CV] C=10, degree=1, kernel=poly .....................................\n",
      "[CV] ...................... C=10, degree=1, kernel=poly, total=   0.0s\n",
      "[CV] C=10, degree=1, kernel=poly .....................................\n",
      "[CV] ...................... C=10, degree=1, kernel=poly, total=   0.0s\n",
      "[CV] C=10, degree=1, kernel=poly .....................................\n",
      "[CV] ...................... C=10, degree=1, kernel=poly, total=   0.0s\n",
      "[CV] C=10, degree=1, kernel=poly .....................................\n",
      "[CV] ...................... C=10, degree=1, kernel=poly, total=   0.0s\n",
      "[CV] C=10, degree=1, kernel=poly .....................................\n",
      "[CV] ...................... C=10, degree=1, kernel=poly, total=   0.0s\n",
      "[CV] C=10, degree=2, kernel=poly .....................................\n",
      "[CV] ...................... C=10, degree=2, kernel=poly, total=   0.0s\n",
      "[CV] C=10, degree=2, kernel=poly .....................................\n",
      "[CV] ...................... C=10, degree=2, kernel=poly, total=   0.0s\n",
      "[CV] C=10, degree=2, kernel=poly .....................................\n",
      "[CV] ...................... C=10, degree=2, kernel=poly, total=   0.0s\n",
      "[CV] C=10, degree=2, kernel=poly .....................................\n",
      "[CV] ...................... C=10, degree=2, kernel=poly, total=   0.0s\n",
      "[CV] C=10, degree=2, kernel=poly .....................................\n",
      "[CV] ...................... C=10, degree=2, kernel=poly, total=   0.0s\n",
      "[CV] C=10, degree=3, kernel=poly .....................................\n",
      "[CV] ...................... C=10, degree=3, kernel=poly, total=   0.0s\n",
      "[CV] C=10, degree=3, kernel=poly .....................................\n",
      "[CV] ...................... C=10, degree=3, kernel=poly, total=   0.0s\n",
      "[CV] C=10, degree=3, kernel=poly .....................................\n",
      "[CV] ...................... C=10, degree=3, kernel=poly, total=   0.0s\n",
      "[CV] C=10, degree=3, kernel=poly .....................................\n",
      "[CV] ...................... C=10, degree=3, kernel=poly, total=   0.0s\n",
      "[CV] C=10, degree=3, kernel=poly .....................................\n",
      "[CV] ...................... C=10, degree=3, kernel=poly, total=   0.0s\n",
      "[CV] C=10, degree=5, kernel=poly .....................................\n",
      "[CV] ...................... C=10, degree=5, kernel=poly, total=   0.0s\n",
      "[CV] C=10, degree=5, kernel=poly .....................................\n",
      "[CV] ...................... C=10, degree=5, kernel=poly, total=   0.0s\n",
      "[CV] C=10, degree=5, kernel=poly .....................................\n",
      "[CV] ...................... C=10, degree=5, kernel=poly, total=   0.0s\n",
      "[CV] C=10, degree=5, kernel=poly .....................................\n",
      "[CV] ...................... C=10, degree=5, kernel=poly, total=   0.0s\n",
      "[CV] C=10, degree=5, kernel=poly .....................................\n",
      "[CV] ...................... C=10, degree=5, kernel=poly, total=   0.0s\n",
      "[CV] C=10, degree=10, kernel=poly ....................................\n",
      "[CV] ..................... C=10, degree=10, kernel=poly, total=   0.0s\n",
      "[CV] C=10, degree=10, kernel=poly ....................................\n",
      "[CV] ..................... C=10, degree=10, kernel=poly, total=   0.0s\n",
      "[CV] C=10, degree=10, kernel=poly ....................................\n",
      "[CV] ..................... C=10, degree=10, kernel=poly, total=   0.0s\n",
      "[CV] C=10, degree=10, kernel=poly ....................................\n",
      "[CV] ..................... C=10, degree=10, kernel=poly, total=   0.0s\n",
      "[CV] C=10, degree=10, kernel=poly ....................................\n",
      "[CV] ..................... C=10, degree=10, kernel=poly, total=   0.0s\n",
      "[CV] C=100, degree=1, kernel=poly ....................................\n",
      "[CV] ..................... C=100, degree=1, kernel=poly, total=   0.0s\n",
      "[CV] C=100, degree=1, kernel=poly ....................................\n",
      "[CV] ..................... C=100, degree=1, kernel=poly, total=   0.0s\n",
      "[CV] C=100, degree=1, kernel=poly ....................................\n",
      "[CV] ..................... C=100, degree=1, kernel=poly, total=   0.0s\n",
      "[CV] C=100, degree=1, kernel=poly ....................................\n",
      "[CV] ..................... C=100, degree=1, kernel=poly, total=   0.0s\n",
      "[CV] C=100, degree=1, kernel=poly ....................................\n",
      "[CV] ..................... C=100, degree=1, kernel=poly, total=   0.0s\n",
      "[CV] C=100, degree=2, kernel=poly ....................................\n",
      "[CV] ..................... C=100, degree=2, kernel=poly, total=   0.0s\n",
      "[CV] C=100, degree=2, kernel=poly ....................................\n",
      "[CV] ..................... C=100, degree=2, kernel=poly, total=   0.0s\n",
      "[CV] C=100, degree=2, kernel=poly ....................................\n",
      "[CV] ..................... C=100, degree=2, kernel=poly, total=   0.0s\n",
      "[CV] C=100, degree=2, kernel=poly ....................................\n",
      "[CV] ..................... C=100, degree=2, kernel=poly, total=   0.0s\n",
      "[CV] C=100, degree=2, kernel=poly ....................................\n",
      "[CV] ..................... C=100, degree=2, kernel=poly, total=   0.0s\n",
      "[CV] C=100, degree=3, kernel=poly ....................................\n",
      "[CV] ..................... C=100, degree=3, kernel=poly, total=   0.0s\n",
      "[CV] C=100, degree=3, kernel=poly ....................................\n",
      "[CV] ..................... C=100, degree=3, kernel=poly, total=   0.0s\n",
      "[CV] C=100, degree=3, kernel=poly ....................................\n",
      "[CV] ..................... C=100, degree=3, kernel=poly, total=   0.0s\n",
      "[CV] C=100, degree=3, kernel=poly ....................................\n",
      "[CV] ..................... C=100, degree=3, kernel=poly, total=   0.0s\n",
      "[CV] C=100, degree=3, kernel=poly ....................................\n",
      "[CV] ..................... C=100, degree=3, kernel=poly, total=   0.0s\n",
      "[CV] C=100, degree=5, kernel=poly ....................................\n",
      "[CV] ..................... C=100, degree=5, kernel=poly, total=   0.0s\n",
      "[CV] C=100, degree=5, kernel=poly ....................................\n",
      "[CV] ..................... C=100, degree=5, kernel=poly, total=   0.0s\n",
      "[CV] C=100, degree=5, kernel=poly ....................................\n",
      "[CV] ..................... C=100, degree=5, kernel=poly, total=   0.0s\n",
      "[CV] C=100, degree=5, kernel=poly ....................................\n",
      "[CV] ..................... C=100, degree=5, kernel=poly, total=   0.0s\n",
      "[CV] C=100, degree=5, kernel=poly ....................................\n",
      "[CV] ..................... C=100, degree=5, kernel=poly, total=   0.0s\n",
      "[CV] C=100, degree=10, kernel=poly ...................................\n",
      "[CV] .................... C=100, degree=10, kernel=poly, total=   0.0s\n",
      "[CV] C=100, degree=10, kernel=poly ...................................\n",
      "[CV] .................... C=100, degree=10, kernel=poly, total=   0.0s\n",
      "[CV] C=100, degree=10, kernel=poly ...................................\n",
      "[CV] .................... C=100, degree=10, kernel=poly, total=   0.0s\n",
      "[CV] C=100, degree=10, kernel=poly ...................................\n",
      "[CV] .................... C=100, degree=10, kernel=poly, total=   0.0s\n",
      "[CV] C=100, degree=10, kernel=poly ...................................\n",
      "[CV] .................... C=100, degree=10, kernel=poly, total=   0.0s\n"
     ]
    },
    {
     "name": "stderr",
     "output_type": "stream",
     "text": [
      "[Parallel(n_jobs=1)]: Done 120 out of 120 | elapsed:  1.0min finished\n",
      "C:\\Anaconda3\\envs\\Safe\\lib\\site-packages\\sklearn\\model_selection\\_search.py:814: DeprecationWarning: The default of the `iid` parameter will change from True to False in version 0.22 and will be removed in 0.24. This will change numeric results when test-set sizes are unequal.\n",
      "  DeprecationWarning)\n"
     ]
    }
   ],
   "source": [
    "clf = clf.fit(dataset.data, dataset.target)"
   ]
  },
  {
   "cell_type": "code",
   "execution_count": 156,
   "metadata": {},
   "outputs": [],
   "source": [
    "# Utility function to report best scores\n",
    "def report(results, n_top=3):\n",
    "    for i in range(1, n_top + 1):\n",
    "        candidates = np.flatnonzero(results['rank_test_score'] == i)\n",
    "        for candidate in candidates:\n",
    "            print(\"Model with rank: {0}\".format(i))\n",
    "            print(\"Mean validation score: {0:.3f} (std: {1:.3f})\".format(\n",
    "                  results['mean_test_score'][candidate],\n",
    "                  results['std_test_score'][candidate]))\n",
    "            print(\"Parameters: {0}\".format(results['params'][candidate]))\n",
    "            print(\"\")"
   ]
  },
  {
   "cell_type": "code",
   "execution_count": 157,
   "metadata": {},
   "outputs": [
    {
     "name": "stdout",
     "output_type": "stream",
     "text": [
      "Model with rank: 1\n",
      "Mean validation score: 0.963 (std: 0.017)\n",
      "Parameters: {'C': 100, 'kernel': 'linear'}\n",
      "\n",
      "Model with rank: 2\n",
      "Mean validation score: 0.953 (std: 0.014)\n",
      "Parameters: {'C': 10, 'kernel': 'linear'}\n",
      "\n",
      "Model with rank: 3\n",
      "Mean validation score: 0.946 (std: 0.019)\n",
      "Parameters: {'C': 1, 'kernel': 'linear'}\n",
      "\n"
     ]
    }
   ],
   "source": [
    "report(clf.cv_results_)"
   ]
  },
  {
   "cell_type": "markdown",
   "metadata": {},
   "source": [
    "## Verification"
   ]
  },
  {
   "cell_type": "code",
   "execution_count": 166,
   "metadata": {},
   "outputs": [],
   "source": [
    "clf = SVC(kernel='linear', C=100, gamma='auto')"
   ]
  },
  {
   "cell_type": "code",
   "execution_count": 167,
   "metadata": {},
   "outputs": [
    {
     "name": "stdout",
     "output_type": "stream",
     "text": [
      "Train     | Test     \n",
      "--------------------\n",
      "[164   3] | [44  1]\n",
      "[  0 288] | [ 2 67]\n"
     ]
    },
    {
     "data": {
      "text/plain": [
       "0.9736842105263158"
      ]
     },
     "execution_count": 167,
     "metadata": {},
     "output_type": "execute_result"
    }
   ],
   "source": [
    "pipeline = Pipeline([('scaler', scaler), ('clf', clf)], verbose=False)\n",
    "pipeline = pipeline.fit(X_train, y_train)\n",
    "conf_matrix(pipeline, X_train, X_test, y_train, y_test)\n",
    "pipeline.score(X_test, y_test)"
   ]
  },
  {
   "cell_type": "markdown",
   "metadata": {},
   "source": [
    "Get the best score in the training ! Perfect !"
   ]
  },
  {
   "cell_type": "markdown",
   "metadata": {},
   "source": [
    "# GridSearch with multiple models"
   ]
  },
  {
   "cell_type": "code",
   "execution_count": 190,
   "metadata": {},
   "outputs": [],
   "source": [
    "# Credit to http://www.davidsbatista.net/blog/2018/02/23/model_optimization/\n",
    "from sklearn.base import BaseEstimator\n",
    "from sklearn.model_selection import GridSearchCV\n",
    "from sklearn.tree import DecisionTreeClassifier\n",
    "import pandas as pd\n",
    "import numpy as np\n",
    "\n",
    "\n",
    "class EstimatorSelectionHelper:\n",
    "\n",
    "    def __init__(self, models, params):\n",
    "        if not set(models.keys()).issubset(set(params.keys())):\n",
    "            missing_params = list(set(models.keys()) - set(params.keys()))\n",
    "            raise ValueError(\"Some estimators are missing parameters: %s\" % missing_params)\n",
    "        self.models = models\n",
    "        self.params = params\n",
    "        self.keys = models.keys()\n",
    "        self.grid_searches = {}\n",
    "\n",
    "    def fit(self, X, y, cv=3, n_jobs=3, verbose=1, scoring=None, refit=False):\n",
    "        for key in self.keys:\n",
    "            print(\"Running GridSearchCV for %s.\" % key)\n",
    "            model = self.models[key]\n",
    "            params = self.params[key]\n",
    "            gs = GridSearchCV(model, params, cv=cv, n_jobs=n_jobs,\n",
    "                              verbose=verbose, scoring=scoring, refit=refit,\n",
    "                              return_train_score=True)\n",
    "            gs.fit(X,y)\n",
    "            self.grid_searches[key] = gs    \n",
    "\n",
    "    def score_summary(self, sort_by='mean_score'):\n",
    "        def row(key, scores, params):\n",
    "            d = {\n",
    "                 'estimator': key,\n",
    "                 'min_score': min(scores),\n",
    "                 'max_score': max(scores),\n",
    "                 'mean_score': np.mean(scores),\n",
    "                 'std_score': np.std(scores),\n",
    "            }\n",
    "            return pd.Series({**params,**d})\n",
    "\n",
    "        rows = []\n",
    "        for k in self.grid_searches:\n",
    "            print(k)\n",
    "            params = self.grid_searches[k].cv_results_['params']\n",
    "            scores = []\n",
    "            for i in range(self.grid_searches[k].cv):\n",
    "                key = \"split{}_test_score\".format(i)\n",
    "                r = self.grid_searches[k].cv_results_[key]        \n",
    "                scores.append(r.reshape(len(params),1))\n",
    "\n",
    "            all_scores = np.hstack(scores)\n",
    "            for p, s in zip(params,all_scores):\n",
    "                rows.append((row(k, s, p)))\n",
    "\n",
    "        df = pd.concat(rows, axis=1).T.sort_values([sort_by], ascending=False)\n",
    "\n",
    "        columns = ['estimator', 'min_score', 'mean_score', 'max_score', 'std_score']\n",
    "        columns = columns + [c for c in df.columns if c not in columns]\n",
    "\n",
    "        return df[columns]"
   ]
  },
  {
   "cell_type": "code",
   "execution_count": 187,
   "metadata": {
    "scrolled": true
   },
   "outputs": [],
   "source": [
    "from sklearn.ensemble import RandomForestClassifier, ExtraTreesClassifier\n",
    "from sklearn.ensemble import AdaBoostClassifier\n",
    "from sklearn.ensemble import GradientBoostingClassifier\n",
    "from sklearn.svm import SVC\n",
    "\n",
    "models1 = {\n",
    "    'ExtraTreesClassifier': ExtraTreesClassifier(),\n",
    "    'RandomForestClassifier': RandomForestClassifier(),\n",
    "    'AdaBoostClassifier': AdaBoostClassifier(),\n",
    "    'GradientBoostingClassifier': GradientBoostingClassifier(),\n",
    "    'SVC': SVC()\n",
    "}\n",
    "\n",
    "params1 = {\n",
    "    'ExtraTreesClassifier': { 'n_estimators': [16, 32] },\n",
    "    'RandomForestClassifier': { 'n_estimators': [16, 32] },\n",
    "    'AdaBoostClassifier':  { 'n_estimators': [16, 32] },\n",
    "    'GradientBoostingClassifier': { 'n_estimators': [16, 32], 'learning_rate': [0.8, 1.0] },\n",
    "    'SVC': [\n",
    "        {'kernel': ['linear'], 'C': [1, 10]},\n",
    "        {'kernel': ['rbf'], 'C': [1, 10], 'gamma': [0.001, 0.0001]},\n",
    "    ]\n",
    "}"
   ]
  },
  {
   "cell_type": "code",
   "execution_count": 188,
   "metadata": {},
   "outputs": [
    {
     "name": "stdout",
     "output_type": "stream",
     "text": [
      "Running GridSearchCV for ExtraTreesClassifier.\n",
      "Fitting 3 folds for each of 2 candidates, totalling 6 fits\n",
      "Running GridSearchCV for RandomForestClassifier.\n",
      "Fitting 3 folds for each of 2 candidates, totalling 6 fits\n"
     ]
    },
    {
     "name": "stderr",
     "output_type": "stream",
     "text": [
      "[Parallel(n_jobs=1)]: Using backend SequentialBackend with 1 concurrent workers.\n",
      "[Parallel(n_jobs=1)]: Done   6 out of   6 | elapsed:    0.1s finished\n",
      "[Parallel(n_jobs=1)]: Using backend SequentialBackend with 1 concurrent workers.\n",
      "[Parallel(n_jobs=1)]: Done   6 out of   6 | elapsed:    0.1s finished\n",
      "[Parallel(n_jobs=1)]: Using backend SequentialBackend with 1 concurrent workers.\n"
     ]
    },
    {
     "name": "stdout",
     "output_type": "stream",
     "text": [
      "Running GridSearchCV for AdaBoostClassifier.\n",
      "Fitting 3 folds for each of 2 candidates, totalling 6 fits\n"
     ]
    },
    {
     "name": "stderr",
     "output_type": "stream",
     "text": [
      "[Parallel(n_jobs=1)]: Done   6 out of   6 | elapsed:    0.2s finished\n",
      "[Parallel(n_jobs=1)]: Using backend SequentialBackend with 1 concurrent workers.\n"
     ]
    },
    {
     "name": "stdout",
     "output_type": "stream",
     "text": [
      "Running GridSearchCV for GradientBoostingClassifier.\n",
      "Fitting 3 folds for each of 4 candidates, totalling 12 fits\n"
     ]
    },
    {
     "name": "stderr",
     "output_type": "stream",
     "text": [
      "[Parallel(n_jobs=1)]: Done  12 out of  12 | elapsed:    0.2s finished\n",
      "[Parallel(n_jobs=1)]: Using backend SequentialBackend with 1 concurrent workers.\n"
     ]
    },
    {
     "name": "stdout",
     "output_type": "stream",
     "text": [
      "Running GridSearchCV for SVC.\n",
      "Fitting 3 folds for each of 6 candidates, totalling 18 fits\n"
     ]
    },
    {
     "name": "stderr",
     "output_type": "stream",
     "text": [
      "[Parallel(n_jobs=1)]: Done  18 out of  18 | elapsed:   14.9s finished\n"
     ]
    }
   ],
   "source": [
    "helper1 = EstimatorSelectionHelper(models1, params1)\n",
    "helper1.fit(dataset.data, dataset.target, scoring='f1', n_jobs=1)"
   ]
  },
  {
   "cell_type": "code",
   "execution_count": 189,
   "metadata": {},
   "outputs": [
    {
     "name": "stdout",
     "output_type": "stream",
     "text": [
      "ExtraTreesClassifier\n",
      "RandomForestClassifier\n",
      "AdaBoostClassifier\n",
      "GradientBoostingClassifier\n",
      "SVC\n"
     ]
    },
    {
     "name": "stderr",
     "output_type": "stream",
     "text": [
      "C:\\Anaconda3\\envs\\Safe\\lib\\site-packages\\ipykernel_launcher.py:55: FutureWarning: Sorting because non-concatenation axis is not aligned. A future version\n",
      "of pandas will change to not sort by default.\n",
      "\n",
      "To accept the future behavior, pass 'sort=False'.\n",
      "\n",
      "To retain the current behavior and silence the warning, pass 'sort=True'.\n",
      "\n"
     ]
    },
    {
     "data": {
      "text/html": [
       "<div>\n",
       "<style scoped>\n",
       "    .dataframe tbody tr th:only-of-type {\n",
       "        vertical-align: middle;\n",
       "    }\n",
       "\n",
       "    .dataframe tbody tr th {\n",
       "        vertical-align: top;\n",
       "    }\n",
       "\n",
       "    .dataframe thead th {\n",
       "        text-align: right;\n",
       "    }\n",
       "</style>\n",
       "<table border=\"1\" class=\"dataframe\">\n",
       "  <thead>\n",
       "    <tr style=\"text-align: right;\">\n",
       "      <th></th>\n",
       "      <th>estimator</th>\n",
       "      <th>min_score</th>\n",
       "      <th>mean_score</th>\n",
       "      <th>max_score</th>\n",
       "      <th>std_score</th>\n",
       "      <th>C</th>\n",
       "      <th>gamma</th>\n",
       "      <th>kernel</th>\n",
       "      <th>learning_rate</th>\n",
       "      <th>n_estimators</th>\n",
       "    </tr>\n",
       "  </thead>\n",
       "  <tbody>\n",
       "    <tr>\n",
       "      <th>5</th>\n",
       "      <td>AdaBoostClassifier</td>\n",
       "      <td>0.962343</td>\n",
       "      <td>0.974907</td>\n",
       "      <td>0.991667</td>\n",
       "      <td>0.0123335</td>\n",
       "      <td>NaN</td>\n",
       "      <td>NaN</td>\n",
       "      <td>NaN</td>\n",
       "      <td>NaN</td>\n",
       "      <td>32</td>\n",
       "    </tr>\n",
       "    <tr>\n",
       "      <th>0</th>\n",
       "      <td>ExtraTreesClassifier</td>\n",
       "      <td>0.956522</td>\n",
       "      <td>0.969012</td>\n",
       "      <td>0.987552</td>\n",
       "      <td>0.0133707</td>\n",
       "      <td>NaN</td>\n",
       "      <td>NaN</td>\n",
       "      <td>NaN</td>\n",
       "      <td>NaN</td>\n",
       "      <td>16</td>\n",
       "    </tr>\n",
       "    <tr>\n",
       "      <th>4</th>\n",
       "      <td>AdaBoostClassifier</td>\n",
       "      <td>0.95279</td>\n",
       "      <td>0.966463</td>\n",
       "      <td>0.983333</td>\n",
       "      <td>0.0126727</td>\n",
       "      <td>NaN</td>\n",
       "      <td>NaN</td>\n",
       "      <td>NaN</td>\n",
       "      <td>NaN</td>\n",
       "      <td>16</td>\n",
       "    </tr>\n",
       "    <tr>\n",
       "      <th>6</th>\n",
       "      <td>GradientBoostingClassifier</td>\n",
       "      <td>0.943723</td>\n",
       "      <td>0.959359</td>\n",
       "      <td>0.979253</td>\n",
       "      <td>0.0148142</td>\n",
       "      <td>NaN</td>\n",
       "      <td>NaN</td>\n",
       "      <td>NaN</td>\n",
       "      <td>0.8</td>\n",
       "      <td>16</td>\n",
       "    </tr>\n",
       "    <tr>\n",
       "      <th>3</th>\n",
       "      <td>RandomForestClassifier</td>\n",
       "      <td>0.957983</td>\n",
       "      <td>0.966363</td>\n",
       "      <td>0.979079</td>\n",
       "      <td>0.00914232</td>\n",
       "      <td>NaN</td>\n",
       "      <td>NaN</td>\n",
       "      <td>NaN</td>\n",
       "      <td>NaN</td>\n",
       "      <td>32</td>\n",
       "    </tr>\n",
       "    <tr>\n",
       "      <th>1</th>\n",
       "      <td>ExtraTreesClassifier</td>\n",
       "      <td>0.962656</td>\n",
       "      <td>0.967988</td>\n",
       "      <td>0.975207</td>\n",
       "      <td>0.00529468</td>\n",
       "      <td>NaN</td>\n",
       "      <td>NaN</td>\n",
       "      <td>NaN</td>\n",
       "      <td>NaN</td>\n",
       "      <td>32</td>\n",
       "    </tr>\n",
       "    <tr>\n",
       "      <th>7</th>\n",
       "      <td>GradientBoostingClassifier</td>\n",
       "      <td>0.929825</td>\n",
       "      <td>0.957324</td>\n",
       "      <td>0.975207</td>\n",
       "      <td>0.0197359</td>\n",
       "      <td>NaN</td>\n",
       "      <td>NaN</td>\n",
       "      <td>NaN</td>\n",
       "      <td>0.8</td>\n",
       "      <td>32</td>\n",
       "    </tr>\n",
       "    <tr>\n",
       "      <th>10</th>\n",
       "      <td>SVC</td>\n",
       "      <td>0.95122</td>\n",
       "      <td>0.961108</td>\n",
       "      <td>0.975207</td>\n",
       "      <td>0.0102354</td>\n",
       "      <td>1</td>\n",
       "      <td>NaN</td>\n",
       "      <td>linear</td>\n",
       "      <td>NaN</td>\n",
       "      <td>NaN</td>\n",
       "    </tr>\n",
       "    <tr>\n",
       "      <th>2</th>\n",
       "      <td>RandomForestClassifier</td>\n",
       "      <td>0.937238</td>\n",
       "      <td>0.959676</td>\n",
       "      <td>0.974576</td>\n",
       "      <td>0.0161479</td>\n",
       "      <td>NaN</td>\n",
       "      <td>NaN</td>\n",
       "      <td>NaN</td>\n",
       "      <td>NaN</td>\n",
       "      <td>16</td>\n",
       "    </tr>\n",
       "    <tr>\n",
       "      <th>9</th>\n",
       "      <td>GradientBoostingClassifier</td>\n",
       "      <td>0.950413</td>\n",
       "      <td>0.959665</td>\n",
       "      <td>0.970954</td>\n",
       "      <td>0.00850878</td>\n",
       "      <td>NaN</td>\n",
       "      <td>NaN</td>\n",
       "      <td>NaN</td>\n",
       "      <td>1</td>\n",
       "      <td>32</td>\n",
       "    </tr>\n",
       "    <tr>\n",
       "      <th>11</th>\n",
       "      <td>SVC</td>\n",
       "      <td>0.961373</td>\n",
       "      <td>0.963747</td>\n",
       "      <td>0.967213</td>\n",
       "      <td>0.00250593</td>\n",
       "      <td>10</td>\n",
       "      <td>NaN</td>\n",
       "      <td>linear</td>\n",
       "      <td>NaN</td>\n",
       "      <td>NaN</td>\n",
       "    </tr>\n",
       "    <tr>\n",
       "      <th>8</th>\n",
       "      <td>GradientBoostingClassifier</td>\n",
       "      <td>0.954733</td>\n",
       "      <td>0.9597</td>\n",
       "      <td>0.962343</td>\n",
       "      <td>0.00351516</td>\n",
       "      <td>NaN</td>\n",
       "      <td>NaN</td>\n",
       "      <td>NaN</td>\n",
       "      <td>1</td>\n",
       "      <td>16</td>\n",
       "    </tr>\n",
       "    <tr>\n",
       "      <th>15</th>\n",
       "      <td>SVC</td>\n",
       "      <td>0.935484</td>\n",
       "      <td>0.945366</td>\n",
       "      <td>0.955466</td>\n",
       "      <td>0.00815896</td>\n",
       "      <td>10</td>\n",
       "      <td>0.0001</td>\n",
       "      <td>rbf</td>\n",
       "      <td>NaN</td>\n",
       "      <td>NaN</td>\n",
       "    </tr>\n",
       "    <tr>\n",
       "      <th>13</th>\n",
       "      <td>SVC</td>\n",
       "      <td>0.934959</td>\n",
       "      <td>0.946564</td>\n",
       "      <td>0.954733</td>\n",
       "      <td>0.00843008</td>\n",
       "      <td>1</td>\n",
       "      <td>0.0001</td>\n",
       "      <td>rbf</td>\n",
       "      <td>NaN</td>\n",
       "      <td>NaN</td>\n",
       "    </tr>\n",
       "    <tr>\n",
       "      <th>12</th>\n",
       "      <td>SVC</td>\n",
       "      <td>0.926407</td>\n",
       "      <td>0.936624</td>\n",
       "      <td>0.94958</td>\n",
       "      <td>0.00965657</td>\n",
       "      <td>1</td>\n",
       "      <td>0.001</td>\n",
       "      <td>rbf</td>\n",
       "      <td>NaN</td>\n",
       "      <td>NaN</td>\n",
       "    </tr>\n",
       "    <tr>\n",
       "      <th>14</th>\n",
       "      <td>SVC</td>\n",
       "      <td>0.918455</td>\n",
       "      <td>0.929334</td>\n",
       "      <td>0.940678</td>\n",
       "      <td>0.00907845</td>\n",
       "      <td>10</td>\n",
       "      <td>0.001</td>\n",
       "      <td>rbf</td>\n",
       "      <td>NaN</td>\n",
       "      <td>NaN</td>\n",
       "    </tr>\n",
       "  </tbody>\n",
       "</table>\n",
       "</div>"
      ],
      "text/plain": [
       "                     estimator min_score mean_score max_score   std_score  \\\n",
       "5           AdaBoostClassifier  0.962343   0.974907  0.991667   0.0123335   \n",
       "0         ExtraTreesClassifier  0.956522   0.969012  0.987552   0.0133707   \n",
       "4           AdaBoostClassifier   0.95279   0.966463  0.983333   0.0126727   \n",
       "6   GradientBoostingClassifier  0.943723   0.959359  0.979253   0.0148142   \n",
       "3       RandomForestClassifier  0.957983   0.966363  0.979079  0.00914232   \n",
       "1         ExtraTreesClassifier  0.962656   0.967988  0.975207  0.00529468   \n",
       "7   GradientBoostingClassifier  0.929825   0.957324  0.975207   0.0197359   \n",
       "10                         SVC   0.95122   0.961108  0.975207   0.0102354   \n",
       "2       RandomForestClassifier  0.937238   0.959676  0.974576   0.0161479   \n",
       "9   GradientBoostingClassifier  0.950413   0.959665  0.970954  0.00850878   \n",
       "11                         SVC  0.961373   0.963747  0.967213  0.00250593   \n",
       "8   GradientBoostingClassifier  0.954733     0.9597  0.962343  0.00351516   \n",
       "15                         SVC  0.935484   0.945366  0.955466  0.00815896   \n",
       "13                         SVC  0.934959   0.946564  0.954733  0.00843008   \n",
       "12                         SVC  0.926407   0.936624   0.94958  0.00965657   \n",
       "14                         SVC  0.918455   0.929334  0.940678  0.00907845   \n",
       "\n",
       "      C   gamma  kernel learning_rate n_estimators  \n",
       "5   NaN     NaN     NaN           NaN           32  \n",
       "0   NaN     NaN     NaN           NaN           16  \n",
       "4   NaN     NaN     NaN           NaN           16  \n",
       "6   NaN     NaN     NaN           0.8           16  \n",
       "3   NaN     NaN     NaN           NaN           32  \n",
       "1   NaN     NaN     NaN           NaN           32  \n",
       "7   NaN     NaN     NaN           0.8           32  \n",
       "10    1     NaN  linear           NaN          NaN  \n",
       "2   NaN     NaN     NaN           NaN           16  \n",
       "9   NaN     NaN     NaN             1           32  \n",
       "11   10     NaN  linear           NaN          NaN  \n",
       "8   NaN     NaN     NaN             1           16  \n",
       "15   10  0.0001     rbf           NaN          NaN  \n",
       "13    1  0.0001     rbf           NaN          NaN  \n",
       "12    1   0.001     rbf           NaN          NaN  \n",
       "14   10   0.001     rbf           NaN          NaN  "
      ]
     },
     "execution_count": 189,
     "metadata": {},
     "output_type": "execute_result"
    }
   ],
   "source": [
    "helper1.score_summary(sort_by='max_score')"
   ]
  },
  {
   "cell_type": "code",
   "execution_count": null,
   "metadata": {},
   "outputs": [],
   "source": []
  }
 ],
 "metadata": {
  "kernelspec": {
   "display_name": "Python 3",
   "language": "python",
   "name": "python3"
  },
  "language_info": {
   "codemirror_mode": {
    "name": "ipython",
    "version": 3
   },
   "file_extension": ".py",
   "mimetype": "text/x-python",
   "name": "python",
   "nbconvert_exporter": "python",
   "pygments_lexer": "ipython3",
   "version": "3.7.4"
  }
 },
 "nbformat": 4,
 "nbformat_minor": 2
}
